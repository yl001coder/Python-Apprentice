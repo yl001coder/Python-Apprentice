{
  "cells": [
    {
      "cell_type": "markdown",
      "metadata": {},
      "source": [
        "# Variables and Functions\n",
        "\n",
        "<div class=\"alert alert-info\">\n",
        "  A few things to remember:\n",
        "\n",
        "  1) Commit your code! Review  `03_Check_In_You_Code` for a reminder \n",
        "    on how to commit and sync your changes. \n",
        "  2) Remember that these `.ipynb` files have runnable cells. Review `01_Get_Started`, \n",
        "    in the section \"Running Programs\" for a reminder on how to run code cells in this file. \n",
        "   \n",
        "</div>\n",
        "\n",
        "\n",
        "Here is one of the ways to solve the last assignment, making shapes with a\n",
        "loop:\n",
        "\n",
        "```python \n",
        "\n",
        "import turtle                           # Tell Python we want to work with the turtle\n",
        "turtle.setup(600,600,0,0)               # Set the size of the window\n",
        "\n",
        "tina = turtle.Turtle()                  # Create a turtle named tina\n",
        "\n",
        "for i in range(4):\n",
        "    tina.forward(150)                   # Move tina forward by the forward distance\n",
        "    tina.left(90)                       # Turn tina left by the left turn\n",
        "\n",
        "\n",
        "```\n",
        "\n",
        "Let's see if we can make this code even simpler. Notice that the code that draws\n",
        "the square has a range of `4` and left turn of `90` degrees, and $4*90 = 360$,\n",
        "and there are 360 degrees in a circle. The pentagram has a range of `5` and a\n",
        "left turn of `72` degrees, and $5*72=360$. Hmm... could we come up with a way to\n",
        "compute the angle for any number of sides? To do that, we going to use\n",
        "variables and math. "
      ]
    },
    {
      "cell_type": "code",
      "execution_count": 1,
      "metadata": {},
      "outputs": [
        {
          "data": {
            "text/plain": [
              "60.0"
            ]
          },
          "execution_count": 1,
          "metadata": {},
          "output_type": "execute_result"
        }
      ],
      "source": [
        "# Run me\n",
        "# Compute the angle for a number of sides\n",
        "\n",
        "sides = 6\n",
        "angle = 360/sides\n",
        "\n",
        "angle"
      ]
    },
    {
      "cell_type": "markdown",
      "metadata": {},
      "source": [
        "If we want 6 sides the angle is 60 degrees, and sure enough, $60*6 = 360$.\n",
        "\n",
        "The words  `sides`  and `angle` are __variables__, which are like the names of boxes \n",
        "that can hold values. We can __assign__ values to variables, then use those variables \n",
        "in other places. \n",
        "\n",
        "```python \n",
        "\n",
        "sides = 4\n",
        "angle = 360/sides           # Calculate the angle from the number of sides. \n",
        "\n",
        "for i in range(sides):\n",
        "    tina.forward(150)       # Move tina forward by the forward distance\n",
        "    tina.left(angle)        # Turn tina left by the left turn\n",
        "\n",
        "```\n",
        "\n",
        "In this program, if you change the number that we assign to `sides`, the angle will change automatically!\n",
        "\n",
        "Let's see if the angles created by this equation seem correct. Fill in the\n",
        "'...' in the program in the cell below to calculate angles from sides: "
      ]
    },
    {
      "cell_type": "code",
      "execution_count": 3,
      "metadata": {},
      "outputs": [
        {
          "name": "stdout",
          "output_type": "stream",
          "text": [
            "Angle for  1  sides is  360.0\n",
            "Angle for  2  sides is  180.0\n",
            "Angle for  3  sides is  120.0\n",
            "Angle for  4  sides is  90.0\n",
            "Angle for  5  sides is  72.0\n",
            "Angle for  6  sides is  60.0\n",
            "Angle for  7  sides is  51.42857142857143\n",
            "Angle for  8  sides is  45.0\n",
            "Angle for  9  sides is  40.0\n"
          ]
        }
      ],
      "source": [
        "# Run me!\n",
        "\n",
        "for sides in range(1, 10):\n",
        "    angle = 360/sides\n",
        "    print(\"Angle for \", sides, \" sides is \", angle)\n",
        "   "
      ]
    },
    {
      "cell_type": "markdown",
      "metadata": {},
      "source": [
        "# Functions\n",
        "\n",
        "We can make another more improvement in our program; by grouping \n",
        "the commands to create a shape into a __function__. Here is an example of a function:"
      ]
    },
    {
      "cell_type": "code",
      "execution_count": null,
      "metadata": {},
      "outputs": [],
      "source": [
        "def say_hello(name, times):         # define the function, and give it a name.  'name' and 'times' are parameters\n",
        "\n",
        "    for i in range(times):          # This is the body of the function\n",
        "        print(i, \"Hello \", name)\n",
        "\n",
        "say_hello(\"John\", 5)                # Call the function, and pass it two arguments"
      ]
    },
    {
      "cell_type": "markdown",
      "metadata": {},
      "source": [
        "The line that starts with 'def' is the start of the function definition, and the\n",
        "last line is where we call the function -- we actually run it.   Try calling the\n",
        "function again with different parameters."
      ]
    },
    {
      "cell_type": "code",
      "execution_count": 9,
      "metadata": {},
      "outputs": [
        {
          "name": "stdout",
          "output_type": "stream",
          "text": [
            "hello  bob\n",
            "hello  bob\n",
            "hello  bob\n"
          ]
        }
      ],
      "source": [
        "def say_hello(name, times):\n",
        "\n",
        "    for i in range(times):          \n",
        "        print('hello ', name)\n",
        "\n",
        "say_hello('bob',3)"
      ]
    },
    {
      "cell_type": "code",
      "execution_count": 15,
      "metadata": {},
      "outputs": [
        {
          "name": "stdout",
          "output_type": "stream",
          "text": [
            "you are weird will bill pill co\n",
            "you are weird will bill pill co\n",
            "you are weird will bill pill co\n",
            "you are weird will bill pill co\n",
            "you are weird will bill pill co\n",
            "you are weird will bill pill co\n",
            "you are weird will bill pill co\n",
            "you are weird will bill pill co\n"
          ]
        }
      ],
      "source": [
        "def you_are_weird(name, times):\n",
        "\n",
        "    for i in range(times):\n",
        "        print('you are weird', name)\n",
        "\n",
        "you_are_weird('will bill pill co',8)"
      ]
    }
  ],
  "metadata": {
    "kernelspec": {
      "display_name": "Python 3",
      "language": "python",
      "name": "python3"
    },
    "language_info": {
      "codemirror_mode": {
        "name": "ipython",
        "version": 3
      },
      "file_extension": ".py",
      "mimetype": "text/x-python",
      "name": "python",
      "nbconvert_exporter": "python",
      "pygments_lexer": "ipython3",
      "version": "3.12.11"
    },
    "syllabus": {
      "uid": "HOBo0wvj"
    }
  },
  "nbformat": 4,
  "nbformat_minor": 2
}
