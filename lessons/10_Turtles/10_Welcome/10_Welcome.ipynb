
  "cells": [
    {
      "cell_type": "markdown",
      "metadata": {},
      "source": [
        "# Getting Started with Python\n",
        "\n",
        "This is the first  lesson of your first Python class with the League of Amazing\n",
        "Programmers. To follow these lessons, you should be reading this file in Visual\n",
        "Studio Code if you are on your own computer, or if you are using a website, it\n",
        "should be Github Codespaces, or the League Code Server. \n",
        "\n",
        "We will be writing programs in Python, and starting with turtle programming,\n",
        "which is a fun way to learn programming because you will be drawing pictures\n",
        "like this:\n",
        "\n",
        "<div style=\"text-align: center;\">\n",
        "    <img src=\"https://images.jointheleague.org/python/spiral.png\" alt=\"spiral\" style=\"width:500px;\">\n",
        "</div>\n",
        "\n",
        "\n",
        "It's called turtle programming because you are controlling a turtle that moves\n",
        "around the screen drawing lines. You can make the turtle move forward, turn left\n",
        "or right, and change the color of the lines it draws.\n",
        "\n",
        "However, before we start, we need to setup a few things, so let's move to the\n",
        "next lesson to get started. \n"
      ]
    },
    {
      "cell_type": "markdown",
      "metadata": {},
      "source": []
    }
  ],
  "metadata": {
    "kernelspec": {
      "display_name": ".venv",
      "language": "python",
      "name": "python3"
    },
    "language_info": {
      "codemirror_mode": {
        "name": "ipython",
        "version": 3
      },
      "file_extension": ".py",
      "mimetype": "text/x-python",
      "name": "python",
      "nbconvert_exporter": "python",
      "pygments_lexer": "ipython3",
      "version": "3.11.11"
    },
    "syllabus": {
      "uid": "RRTPqCQu"
    }
  },
  "nbformat": 4,
  "nbformat_minor": 4
}
